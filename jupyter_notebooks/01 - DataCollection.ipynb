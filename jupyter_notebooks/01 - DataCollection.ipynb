{
 "cells": [
  {
   "cell_type": "markdown",
   "id": "f7ce8060",
   "metadata": {},
   "source": [
    "# **Data Collection Notebook**"
   ]
  },
  {
   "cell_type": "markdown",
   "id": "2e24c17f",
   "metadata": {},
   "source": [
    "## Objectives\n",
    "* Fetch data from Kaggle and save it as raw data.\n",
    "* Inspect the data and save it under outputs/datasets/collection\n",
    "\n",
    "## Inputs\n",
    "\n",
    "*   Kaggle JSON file - the authentication token.\n",
    "\n",
    "## Outputs\n",
    "\n",
    "* Generate Dataset: outputs/datasets/collection/HousingPricesData.csv\n"
   ]
  },
  {
   "cell_type": "markdown",
   "id": "575dc231",
   "metadata": {},
   "source": [
    "# Install python packages in the notebooks"
   ]
  },
  {
   "cell_type": "markdown",
   "id": "04e64aa1",
   "metadata": {},
   "source": [
    "# Change working directory"
   ]
  },
  {
   "cell_type": "markdown",
   "id": "141c8c43",
   "metadata": {},
   "source": [
    "We need to change the working directory from its current folder to its parent folder\n",
    "* We access the current directory with os.getcwd()"
   ]
  },
  {
   "cell_type": "code",
   "execution_count": 2,
   "id": "83f09639",
   "metadata": {},
   "outputs": [
    {
     "data": {
      "text/plain": [
       "'c:\\\\Users\\\\farib\\\\Projects\\\\heritage-housing-issues\\\\jupyter_notebooks'"
      ]
     },
     "execution_count": 2,
     "metadata": {},
     "output_type": "execute_result"
    }
   ],
   "source": [
    "import os\n",
    "current_dir = os.getcwd()\n",
    "current_dir"
   ]
  },
  {
   "cell_type": "markdown",
   "id": "fae09a7c",
   "metadata": {},
   "source": [
    "We want to make the parent of the current directory the new current directory.\n",
    "* os.path.dirname() gets the parent directory\n",
    "* os.chir() defines the new current directory"
   ]
  },
  {
   "cell_type": "code",
   "execution_count": 3,
   "id": "77c96175",
   "metadata": {},
   "outputs": [
    {
     "name": "stdout",
     "output_type": "stream",
     "text": [
      "You set a new current directory\n"
     ]
    }
   ],
   "source": [
    "os.chdir(os.path.dirname(current_dir))\n",
    "print(\"You set a new current directory\")"
   ]
  },
  {
   "cell_type": "markdown",
   "id": "150ebcff",
   "metadata": {},
   "source": [
    "Confirm the new current directory"
   ]
  },
  {
   "cell_type": "code",
   "execution_count": 4,
   "id": "db33f312",
   "metadata": {},
   "outputs": [
    {
     "data": {
      "text/plain": [
       "'c:\\\\Users\\\\farib\\\\Projects\\\\heritage-housing-issues'"
      ]
     },
     "execution_count": 4,
     "metadata": {},
     "output_type": "execute_result"
    }
   ],
   "source": [
    "current_dir = os.getcwd()\n",
    "current_dir"
   ]
  },
  {
   "cell_type": "markdown",
   "id": "09d661f6",
   "metadata": {},
   "source": [
    "# Fetch data from Kaggle"
   ]
  },
  {
   "cell_type": "markdown",
   "id": "0b2f7cba",
   "metadata": {},
   "source": [
    "Install Kaggle package to fetch data"
   ]
  },
  {
   "cell_type": "code",
   "execution_count": 4,
   "id": "2201f0a1",
   "metadata": {},
   "outputs": [
    {
     "name": "stdout",
     "output_type": "stream",
     "text": [
      "Requirement already satisfied: kaggle==1.5.12 in c:\\users\\farib\\appdata\\local\\programs\\python\\python312\\lib\\site-packages (1.5.12)\n",
      "Requirement already satisfied: six>=1.10 in c:\\users\\farib\\appdata\\roaming\\python\\python312\\site-packages (from kaggle==1.5.12) (1.17.0)\n",
      "Requirement already satisfied: certifi in c:\\users\\farib\\appdata\\local\\programs\\python\\python312\\lib\\site-packages (from kaggle==1.5.12) (2025.1.31)\n",
      "Requirement already satisfied: python-dateutil in c:\\users\\farib\\appdata\\roaming\\python\\python312\\site-packages (from kaggle==1.5.12) (2.9.0.post0)\n",
      "Requirement already satisfied: requests in c:\\users\\farib\\appdata\\local\\programs\\python\\python312\\lib\\site-packages (from kaggle==1.5.12) (2.32.3)\n",
      "Requirement already satisfied: tqdm in c:\\users\\farib\\appdata\\local\\programs\\python\\python312\\lib\\site-packages (from kaggle==1.5.12) (4.67.1)\n",
      "Requirement already satisfied: python-slugify in c:\\users\\farib\\appdata\\local\\programs\\python\\python312\\lib\\site-packages (from kaggle==1.5.12) (8.0.4)\n",
      "Requirement already satisfied: urllib3 in c:\\users\\farib\\appdata\\local\\programs\\python\\python312\\lib\\site-packages (from kaggle==1.5.12) (2.3.0)\n",
      "Requirement already satisfied: text-unidecode>=1.3 in c:\\users\\farib\\appdata\\local\\programs\\python\\python312\\lib\\site-packages (from python-slugify->kaggle==1.5.12) (1.3)\n",
      "Requirement already satisfied: charset-normalizer<4,>=2 in c:\\users\\farib\\appdata\\local\\programs\\python\\python312\\lib\\site-packages (from requests->kaggle==1.5.12) (3.4.1)\n",
      "Requirement already satisfied: idna<4,>=2.5 in c:\\users\\farib\\appdata\\local\\programs\\python\\python312\\lib\\site-packages (from requests->kaggle==1.5.12) (3.10)\n",
      "Requirement already satisfied: colorama in c:\\users\\farib\\appdata\\roaming\\python\\python312\\site-packages (from tqdm->kaggle==1.5.12) (0.4.6)\n",
      "Note: you may need to restart the kernel to use updated packages.\n"
     ]
    }
   ],
   "source": [
    "%pip install kaggle==1.5.12"
   ]
  },
  {
   "cell_type": "markdown",
   "id": "649f35fc",
   "metadata": {},
   "source": [
    "The next step is to manually drag the kaggle.json into the session\n",
    "\n",
    "Once you do that run the cell below, so the token is recognized in the session"
   ]
  },
  {
   "cell_type": "code",
   "execution_count": 5,
   "id": "480b7041",
   "metadata": {},
   "outputs": [],
   "source": [
    "import os\n",
    "os.environ['KAGGLE_CONFIG_DIR'] = os.getcwd()\n",
    "# ! chmod 600 kaggle.json # Uncomment this for Unix-based systems"
   ]
  },
  {
   "cell_type": "markdown",
   "id": "6f142fe2",
   "metadata": {},
   "source": [
    "We are using the following [Kaggle URL](https://www.kaggle.com/datasets/codeinstitute/housing-prices-data)"
   ]
  },
  {
   "cell_type": "markdown",
   "id": "16e2f6ca",
   "metadata": {},
   "source": [
    "Get the dataset path from the Kaggle url\n",
    "* When you are viewing the dataset at Kaggle, check what is after https://www.kaggle.com/ ."
   ]
  },
  {
   "cell_type": "markdown",
   "id": "afa7407f",
   "metadata": {},
   "source": [
    "Define the Kaggle dataset, and destination folder and download it."
   ]
  },
  {
   "cell_type": "code",
   "execution_count": 6,
   "id": "f824fa29",
   "metadata": {},
   "outputs": [
    {
     "name": "stderr",
     "output_type": "stream",
     "text": [
      "\n",
      "  0%|          | 0.00/49.6k [00:00<?, ?B/s]\n",
      "100%|██████████| 49.6k/49.6k [00:00<00:00, 2.25MB/s]\n"
     ]
    },
    {
     "name": "stdout",
     "output_type": "stream",
     "text": [
      "Downloading housing-prices-data.zip to inputs/datasets/raw\n",
      "\n"
     ]
    }
   ],
   "source": [
    "KaggleDatasetPath = \"codeinstitute/housing-prices-data\"\n",
    "DestinationFolder = \"inputs/datasets/raw\"   \n",
    "! kaggle datasets download -d {KaggleDatasetPath} -p {DestinationFolder}"
   ]
  },
  {
   "cell_type": "markdown",
   "id": "cf7bbe50",
   "metadata": {},
   "source": [
    "Unzip the downloaded file, delete the zip file and delete the kaggle.json file"
   ]
  },
  {
   "cell_type": "code",
   "execution_count": 7,
   "id": "12f66469",
   "metadata": {},
   "outputs": [],
   "source": [
    "import zipfile\n",
    "with zipfile.ZipFile(DestinationFolder + '/housing-prices-data.zip', 'r') as zip_ref:\n",
    "    zip_ref.extractall(DestinationFolder)\n",
    "\n",
    "os.remove(DestinationFolder + '/housing-prices-data.zip')"
   ]
  },
  {
   "cell_type": "markdown",
   "id": "1e9bc43f",
   "metadata": {},
   "source": [
    "# Load and Inspect Kaggle data"
   ]
  },
  {
   "cell_type": "code",
   "execution_count": 8,
   "id": "d3f66ebe",
   "metadata": {},
   "outputs": [
    {
     "data": {
      "text/html": [
       "<div>\n",
       "<style scoped>\n",
       "    .dataframe tbody tr th:only-of-type {\n",
       "        vertical-align: middle;\n",
       "    }\n",
       "\n",
       "    .dataframe tbody tr th {\n",
       "        vertical-align: top;\n",
       "    }\n",
       "\n",
       "    .dataframe thead th {\n",
       "        text-align: right;\n",
       "    }\n",
       "</style>\n",
       "<table border=\"1\" class=\"dataframe\">\n",
       "  <thead>\n",
       "    <tr style=\"text-align: right;\">\n",
       "      <th></th>\n",
       "      <th>1stFlrSF</th>\n",
       "      <th>2ndFlrSF</th>\n",
       "      <th>BedroomAbvGr</th>\n",
       "      <th>BsmtExposure</th>\n",
       "      <th>BsmtFinSF1</th>\n",
       "      <th>BsmtFinType1</th>\n",
       "      <th>BsmtUnfSF</th>\n",
       "      <th>EnclosedPorch</th>\n",
       "      <th>GarageArea</th>\n",
       "      <th>GarageFinish</th>\n",
       "      <th>...</th>\n",
       "      <th>LotFrontage</th>\n",
       "      <th>MasVnrArea</th>\n",
       "      <th>OpenPorchSF</th>\n",
       "      <th>OverallCond</th>\n",
       "      <th>OverallQual</th>\n",
       "      <th>TotalBsmtSF</th>\n",
       "      <th>WoodDeckSF</th>\n",
       "      <th>YearBuilt</th>\n",
       "      <th>YearRemodAdd</th>\n",
       "      <th>SalePrice</th>\n",
       "    </tr>\n",
       "  </thead>\n",
       "  <tbody>\n",
       "    <tr>\n",
       "      <th>0</th>\n",
       "      <td>856</td>\n",
       "      <td>854.0</td>\n",
       "      <td>3.0</td>\n",
       "      <td>No</td>\n",
       "      <td>706</td>\n",
       "      <td>GLQ</td>\n",
       "      <td>150</td>\n",
       "      <td>0.0</td>\n",
       "      <td>548</td>\n",
       "      <td>RFn</td>\n",
       "      <td>...</td>\n",
       "      <td>65.0</td>\n",
       "      <td>196.0</td>\n",
       "      <td>61</td>\n",
       "      <td>5</td>\n",
       "      <td>7</td>\n",
       "      <td>856</td>\n",
       "      <td>0.0</td>\n",
       "      <td>2003</td>\n",
       "      <td>2003</td>\n",
       "      <td>208500</td>\n",
       "    </tr>\n",
       "    <tr>\n",
       "      <th>1</th>\n",
       "      <td>1262</td>\n",
       "      <td>0.0</td>\n",
       "      <td>3.0</td>\n",
       "      <td>Gd</td>\n",
       "      <td>978</td>\n",
       "      <td>ALQ</td>\n",
       "      <td>284</td>\n",
       "      <td>NaN</td>\n",
       "      <td>460</td>\n",
       "      <td>RFn</td>\n",
       "      <td>...</td>\n",
       "      <td>80.0</td>\n",
       "      <td>0.0</td>\n",
       "      <td>0</td>\n",
       "      <td>8</td>\n",
       "      <td>6</td>\n",
       "      <td>1262</td>\n",
       "      <td>NaN</td>\n",
       "      <td>1976</td>\n",
       "      <td>1976</td>\n",
       "      <td>181500</td>\n",
       "    </tr>\n",
       "    <tr>\n",
       "      <th>2</th>\n",
       "      <td>920</td>\n",
       "      <td>866.0</td>\n",
       "      <td>3.0</td>\n",
       "      <td>Mn</td>\n",
       "      <td>486</td>\n",
       "      <td>GLQ</td>\n",
       "      <td>434</td>\n",
       "      <td>0.0</td>\n",
       "      <td>608</td>\n",
       "      <td>RFn</td>\n",
       "      <td>...</td>\n",
       "      <td>68.0</td>\n",
       "      <td>162.0</td>\n",
       "      <td>42</td>\n",
       "      <td>5</td>\n",
       "      <td>7</td>\n",
       "      <td>920</td>\n",
       "      <td>NaN</td>\n",
       "      <td>2001</td>\n",
       "      <td>2002</td>\n",
       "      <td>223500</td>\n",
       "    </tr>\n",
       "    <tr>\n",
       "      <th>3</th>\n",
       "      <td>961</td>\n",
       "      <td>NaN</td>\n",
       "      <td>NaN</td>\n",
       "      <td>No</td>\n",
       "      <td>216</td>\n",
       "      <td>ALQ</td>\n",
       "      <td>540</td>\n",
       "      <td>NaN</td>\n",
       "      <td>642</td>\n",
       "      <td>Unf</td>\n",
       "      <td>...</td>\n",
       "      <td>60.0</td>\n",
       "      <td>0.0</td>\n",
       "      <td>35</td>\n",
       "      <td>5</td>\n",
       "      <td>7</td>\n",
       "      <td>756</td>\n",
       "      <td>NaN</td>\n",
       "      <td>1915</td>\n",
       "      <td>1970</td>\n",
       "      <td>140000</td>\n",
       "    </tr>\n",
       "    <tr>\n",
       "      <th>4</th>\n",
       "      <td>1145</td>\n",
       "      <td>NaN</td>\n",
       "      <td>4.0</td>\n",
       "      <td>Av</td>\n",
       "      <td>655</td>\n",
       "      <td>GLQ</td>\n",
       "      <td>490</td>\n",
       "      <td>0.0</td>\n",
       "      <td>836</td>\n",
       "      <td>RFn</td>\n",
       "      <td>...</td>\n",
       "      <td>84.0</td>\n",
       "      <td>350.0</td>\n",
       "      <td>84</td>\n",
       "      <td>5</td>\n",
       "      <td>8</td>\n",
       "      <td>1145</td>\n",
       "      <td>NaN</td>\n",
       "      <td>2000</td>\n",
       "      <td>2000</td>\n",
       "      <td>250000</td>\n",
       "    </tr>\n",
       "  </tbody>\n",
       "</table>\n",
       "<p>5 rows × 24 columns</p>\n",
       "</div>"
      ],
      "text/plain": [
       "   1stFlrSF  2ndFlrSF  BedroomAbvGr BsmtExposure  BsmtFinSF1 BsmtFinType1  \\\n",
       "0       856     854.0           3.0           No         706          GLQ   \n",
       "1      1262       0.0           3.0           Gd         978          ALQ   \n",
       "2       920     866.0           3.0           Mn         486          GLQ   \n",
       "3       961       NaN           NaN           No         216          ALQ   \n",
       "4      1145       NaN           4.0           Av         655          GLQ   \n",
       "\n",
       "   BsmtUnfSF  EnclosedPorch  GarageArea GarageFinish  ...  LotFrontage  \\\n",
       "0        150            0.0         548          RFn  ...         65.0   \n",
       "1        284            NaN         460          RFn  ...         80.0   \n",
       "2        434            0.0         608          RFn  ...         68.0   \n",
       "3        540            NaN         642          Unf  ...         60.0   \n",
       "4        490            0.0         836          RFn  ...         84.0   \n",
       "\n",
       "   MasVnrArea OpenPorchSF  OverallCond  OverallQual  TotalBsmtSF  WoodDeckSF  \\\n",
       "0       196.0          61            5            7          856         0.0   \n",
       "1         0.0           0            8            6         1262         NaN   \n",
       "2       162.0          42            5            7          920         NaN   \n",
       "3         0.0          35            5            7          756         NaN   \n",
       "4       350.0          84            5            8         1145         NaN   \n",
       "\n",
       "   YearBuilt  YearRemodAdd  SalePrice  \n",
       "0       2003          2003     208500  \n",
       "1       1976          1976     181500  \n",
       "2       2001          2002     223500  \n",
       "3       1915          1970     140000  \n",
       "4       2000          2000     250000  \n",
       "\n",
       "[5 rows x 24 columns]"
      ]
     },
     "execution_count": 8,
     "metadata": {},
     "output_type": "execute_result"
    }
   ],
   "source": [
    "import pandas as pd\n",
    "house_prices_df = pd.read_csv(f\"inputs/datasets/raw/house-price-20211124T154130Z-001/house-price/house_prices_records.csv\")\n",
    "house_prices_df.head()"
   ]
  },
  {
   "cell_type": "code",
   "execution_count": 9,
   "id": "77ea7eb2",
   "metadata": {},
   "outputs": [
    {
     "data": {
      "text/html": [
       "<div>\n",
       "<style scoped>\n",
       "    .dataframe tbody tr th:only-of-type {\n",
       "        vertical-align: middle;\n",
       "    }\n",
       "\n",
       "    .dataframe tbody tr th {\n",
       "        vertical-align: top;\n",
       "    }\n",
       "\n",
       "    .dataframe thead th {\n",
       "        text-align: right;\n",
       "    }\n",
       "</style>\n",
       "<table border=\"1\" class=\"dataframe\">\n",
       "  <thead>\n",
       "    <tr style=\"text-align: right;\">\n",
       "      <th></th>\n",
       "      <th>1stFlrSF</th>\n",
       "      <th>2ndFlrSF</th>\n",
       "      <th>BedroomAbvGr</th>\n",
       "      <th>BsmtExposure</th>\n",
       "      <th>BsmtFinSF1</th>\n",
       "      <th>BsmtFinType1</th>\n",
       "      <th>BsmtUnfSF</th>\n",
       "      <th>EnclosedPorch</th>\n",
       "      <th>GarageArea</th>\n",
       "      <th>GarageFinish</th>\n",
       "      <th>...</th>\n",
       "      <th>LotArea</th>\n",
       "      <th>LotFrontage</th>\n",
       "      <th>MasVnrArea</th>\n",
       "      <th>OpenPorchSF</th>\n",
       "      <th>OverallCond</th>\n",
       "      <th>OverallQual</th>\n",
       "      <th>TotalBsmtSF</th>\n",
       "      <th>WoodDeckSF</th>\n",
       "      <th>YearBuilt</th>\n",
       "      <th>YearRemodAdd</th>\n",
       "    </tr>\n",
       "  </thead>\n",
       "  <tbody>\n",
       "    <tr>\n",
       "      <th>0</th>\n",
       "      <td>896</td>\n",
       "      <td>0</td>\n",
       "      <td>2</td>\n",
       "      <td>No</td>\n",
       "      <td>468.0</td>\n",
       "      <td>Rec</td>\n",
       "      <td>270.0</td>\n",
       "      <td>0</td>\n",
       "      <td>730.0</td>\n",
       "      <td>Unf</td>\n",
       "      <td>...</td>\n",
       "      <td>11622</td>\n",
       "      <td>80.0</td>\n",
       "      <td>0.0</td>\n",
       "      <td>0</td>\n",
       "      <td>6</td>\n",
       "      <td>5</td>\n",
       "      <td>882.0</td>\n",
       "      <td>140</td>\n",
       "      <td>1961</td>\n",
       "      <td>1961</td>\n",
       "    </tr>\n",
       "    <tr>\n",
       "      <th>1</th>\n",
       "      <td>1329</td>\n",
       "      <td>0</td>\n",
       "      <td>3</td>\n",
       "      <td>No</td>\n",
       "      <td>923.0</td>\n",
       "      <td>ALQ</td>\n",
       "      <td>406.0</td>\n",
       "      <td>0</td>\n",
       "      <td>312.0</td>\n",
       "      <td>Unf</td>\n",
       "      <td>...</td>\n",
       "      <td>14267</td>\n",
       "      <td>81.0</td>\n",
       "      <td>108.0</td>\n",
       "      <td>36</td>\n",
       "      <td>6</td>\n",
       "      <td>6</td>\n",
       "      <td>1329.0</td>\n",
       "      <td>393</td>\n",
       "      <td>1958</td>\n",
       "      <td>1958</td>\n",
       "    </tr>\n",
       "    <tr>\n",
       "      <th>2</th>\n",
       "      <td>928</td>\n",
       "      <td>701</td>\n",
       "      <td>3</td>\n",
       "      <td>No</td>\n",
       "      <td>791.0</td>\n",
       "      <td>GLQ</td>\n",
       "      <td>137.0</td>\n",
       "      <td>0</td>\n",
       "      <td>482.0</td>\n",
       "      <td>Fin</td>\n",
       "      <td>...</td>\n",
       "      <td>13830</td>\n",
       "      <td>74.0</td>\n",
       "      <td>0.0</td>\n",
       "      <td>34</td>\n",
       "      <td>5</td>\n",
       "      <td>5</td>\n",
       "      <td>928.0</td>\n",
       "      <td>212</td>\n",
       "      <td>1997</td>\n",
       "      <td>1998</td>\n",
       "    </tr>\n",
       "    <tr>\n",
       "      <th>3</th>\n",
       "      <td>926</td>\n",
       "      <td>678</td>\n",
       "      <td>3</td>\n",
       "      <td>No</td>\n",
       "      <td>602.0</td>\n",
       "      <td>GLQ</td>\n",
       "      <td>324.0</td>\n",
       "      <td>0</td>\n",
       "      <td>470.0</td>\n",
       "      <td>Fin</td>\n",
       "      <td>...</td>\n",
       "      <td>9978</td>\n",
       "      <td>78.0</td>\n",
       "      <td>20.0</td>\n",
       "      <td>36</td>\n",
       "      <td>6</td>\n",
       "      <td>6</td>\n",
       "      <td>926.0</td>\n",
       "      <td>360</td>\n",
       "      <td>1998</td>\n",
       "      <td>1998</td>\n",
       "    </tr>\n",
       "  </tbody>\n",
       "</table>\n",
       "<p>4 rows × 23 columns</p>\n",
       "</div>"
      ],
      "text/plain": [
       "   1stFlrSF  2ndFlrSF  BedroomAbvGr BsmtExposure  BsmtFinSF1 BsmtFinType1  \\\n",
       "0       896         0             2           No       468.0          Rec   \n",
       "1      1329         0             3           No       923.0          ALQ   \n",
       "2       928       701             3           No       791.0          GLQ   \n",
       "3       926       678             3           No       602.0          GLQ   \n",
       "\n",
       "   BsmtUnfSF  EnclosedPorch  GarageArea GarageFinish  ...  LotArea  \\\n",
       "0      270.0              0       730.0          Unf  ...    11622   \n",
       "1      406.0              0       312.0          Unf  ...    14267   \n",
       "2      137.0              0       482.0          Fin  ...    13830   \n",
       "3      324.0              0       470.0          Fin  ...     9978   \n",
       "\n",
       "   LotFrontage MasVnrArea  OpenPorchSF  OverallCond  OverallQual  TotalBsmtSF  \\\n",
       "0         80.0        0.0            0            6            5        882.0   \n",
       "1         81.0      108.0           36            6            6       1329.0   \n",
       "2         74.0        0.0           34            5            5        928.0   \n",
       "3         78.0       20.0           36            6            6        926.0   \n",
       "\n",
       "   WoodDeckSF  YearBuilt  YearRemodAdd  \n",
       "0         140       1961          1961  \n",
       "1         393       1958          1958  \n",
       "2         212       1997          1998  \n",
       "3         360       1998          1998  \n",
       "\n",
       "[4 rows x 23 columns]"
      ]
     },
     "execution_count": 9,
     "metadata": {},
     "output_type": "execute_result"
    }
   ],
   "source": [
    "inherited_houses_df = pd.read_csv(f\"inputs/datasets/raw/house-price-20211124T154130Z-001/house-price/inherited_houses.csv\")\n",
    "inherited_houses_df"
   ]
  },
  {
   "cell_type": "markdown",
   "id": "a5583aca",
   "metadata": {},
   "source": [
    "DataFrame Summary"
   ]
  },
  {
   "cell_type": "code",
   "execution_count": 10,
   "id": "b3198bdc",
   "metadata": {},
   "outputs": [
    {
     "name": "stdout",
     "output_type": "stream",
     "text": [
      "<class 'pandas.core.frame.DataFrame'>\n",
      "RangeIndex: 1460 entries, 0 to 1459\n",
      "Data columns (total 24 columns):\n",
      " #   Column         Non-Null Count  Dtype  \n",
      "---  ------         --------------  -----  \n",
      " 0   1stFlrSF       1460 non-null   int64  \n",
      " 1   2ndFlrSF       1374 non-null   float64\n",
      " 2   BedroomAbvGr   1361 non-null   float64\n",
      " 3   BsmtExposure   1422 non-null   object \n",
      " 4   BsmtFinSF1     1460 non-null   int64  \n",
      " 5   BsmtFinType1   1315 non-null   object \n",
      " 6   BsmtUnfSF      1460 non-null   int64  \n",
      " 7   EnclosedPorch  136 non-null    float64\n",
      " 8   GarageArea     1460 non-null   int64  \n",
      " 9   GarageFinish   1225 non-null   object \n",
      " 10  GarageYrBlt    1379 non-null   float64\n",
      " 11  GrLivArea      1460 non-null   int64  \n",
      " 12  KitchenQual    1460 non-null   object \n",
      " 13  LotArea        1460 non-null   int64  \n",
      " 14  LotFrontage    1201 non-null   float64\n",
      " 15  MasVnrArea     1452 non-null   float64\n",
      " 16  OpenPorchSF    1460 non-null   int64  \n",
      " 17  OverallCond    1460 non-null   int64  \n",
      " 18  OverallQual    1460 non-null   int64  \n",
      " 19  TotalBsmtSF    1460 non-null   int64  \n",
      " 20  WoodDeckSF     155 non-null    float64\n",
      " 21  YearBuilt      1460 non-null   int64  \n",
      " 22  YearRemodAdd   1460 non-null   int64  \n",
      " 23  SalePrice      1460 non-null   int64  \n",
      "dtypes: float64(7), int64(13), object(4)\n",
      "memory usage: 273.9+ KB\n"
     ]
    }
   ],
   "source": [
    "house_prices_df.info()"
   ]
  },
  {
   "cell_type": "markdown",
   "id": "67d33dc4",
   "metadata": {},
   "source": [
    "Check duplicates"
   ]
  },
  {
   "cell_type": "code",
   "execution_count": 11,
   "id": "5d0aeec4",
   "metadata": {},
   "outputs": [
    {
     "data": {
      "text/plain": [
       "0"
      ]
     },
     "execution_count": 11,
     "metadata": {},
     "output_type": "execute_result"
    }
   ],
   "source": [
    "house_prices_df.duplicated().sum()"
   ]
  },
  {
   "cell_type": "code",
   "execution_count": 13,
   "id": "5c4d1cfa",
   "metadata": {},
   "outputs": [
    {
     "data": {
      "text/plain": [
       "(1460, 24)"
      ]
     },
     "execution_count": 13,
     "metadata": {},
     "output_type": "execute_result"
    }
   ],
   "source": [
    "original_shape = house_prices_df.shape\n",
    "original_shape"
   ]
  },
  {
   "cell_type": "markdown",
   "id": "c0a8d131",
   "metadata": {},
   "source": [
    "Categorical Columns, BsmtExposure, BsmtFinType1, GarageFinish, KitchenQual, should be converted using pd.get_dummies() or OrdinalEncoder depending on meaning. "
   ]
  },
  {
   "cell_type": "code",
   "execution_count": 14,
   "id": "b579ecc0",
   "metadata": {},
   "outputs": [],
   "source": [
    "# List of categorical columns to encode\n",
    "categorical_cols = ['BsmtExposure', 'BsmtFinType1', 'GarageFinish']\n",
    "\n",
    "# Create dummy variables with prefixes and drop the first category to avoid multicollinearity\n",
    "dummies = pd.get_dummies(house_prices_df[categorical_cols], prefix=categorical_cols, drop_first=True)\n",
    "\n",
    "# Drop original categorical columns\n",
    "house_prices_df.drop(columns=categorical_cols, inplace=True)\n",
    "\n",
    "# Add the encoded dummy columns to the DataFrame\n",
    "house_prices_df = pd.concat([house_prices_df, dummies], axis=1)"
   ]
  },
  {
   "cell_type": "code",
   "execution_count": 15,
   "id": "d75c034e",
   "metadata": {},
   "outputs": [
    {
     "name": "stdout",
     "output_type": "stream",
     "text": [
      "Index(['1stFlrSF', '2ndFlrSF', 'BedroomAbvGr', 'BsmtFinSF1', 'BsmtUnfSF',\n",
      "       'EnclosedPorch', 'GarageArea', 'GarageYrBlt', 'GrLivArea',\n",
      "       'KitchenQual', 'LotArea', 'LotFrontage', 'MasVnrArea', 'OpenPorchSF',\n",
      "       'OverallCond', 'OverallQual', 'TotalBsmtSF', 'WoodDeckSF', 'YearBuilt',\n",
      "       'YearRemodAdd', 'SalePrice', 'BsmtExposure_Gd', 'BsmtExposure_Mn',\n",
      "       'BsmtExposure_No', 'BsmtFinType1_BLQ', 'BsmtFinType1_GLQ',\n",
      "       'BsmtFinType1_LwQ', 'BsmtFinType1_Rec', 'BsmtFinType1_Unf',\n",
      "       'GarageFinish_RFn', 'GarageFinish_Unf'],\n",
      "      dtype='object')\n"
     ]
    }
   ],
   "source": [
    "print(house_prices_df.columns)"
   ]
  },
  {
   "cell_type": "code",
   "execution_count": 16,
   "id": "92d9b5d2",
   "metadata": {},
   "outputs": [
    {
     "name": "stdout",
     "output_type": "stream",
     "text": [
      "Old shape: (1460, 24)\n",
      "New shape: (1460, 31)\n"
     ]
    }
   ],
   "source": [
    "print(\"Old shape:\", original_shape)\n",
    "print(\"New shape:\", house_prices_df.shape)"
   ]
  },
  {
   "cell_type": "markdown",
   "id": "70c587a2",
   "metadata": {},
   "source": [
    "KitchenQual: Kitchen quality, Ex: Excellent; Gd: Good; TA: Typical/Average; Fa: Fair; Po: Poor\n",
    "\n",
    "Even though 'Po' isn’t present now in the dataset, I'll keep it in the mapping below."
   ]
  },
  {
   "cell_type": "code",
   "execution_count": 17,
   "id": "f2296aba",
   "metadata": {},
   "outputs": [
    {
     "name": "stdout",
     "output_type": "stream",
     "text": [
      "['Gd' 'TA' 'Ex' 'Fa']\n"
     ]
    }
   ],
   "source": [
    "print(house_prices_df['KitchenQual'].unique())"
   ]
  },
  {
   "cell_type": "code",
   "execution_count": 18,
   "id": "6a0e4e2c",
   "metadata": {},
   "outputs": [
    {
     "name": "stdout",
     "output_type": "stream",
     "text": [
      "[4 3 5 2]\n"
     ]
    }
   ],
   "source": [
    "qual_map = {'Po': 1, 'Fa': 2, 'TA': 3, 'Gd': 4, 'Ex': 5}\n",
    "house_prices_df['KitchenQual'] = house_prices_df['KitchenQual'].map(qual_map)\n",
    "print(house_prices_df['KitchenQual'].unique())"
   ]
  },
  {
   "cell_type": "markdown",
   "id": "a17f220c",
   "metadata": {},
   "source": [
    "Convert float columns with whole numbers to int"
   ]
  },
  {
   "cell_type": "code",
   "execution_count": 19,
   "id": "f5f8b5b7",
   "metadata": {},
   "outputs": [
    {
     "name": "stdout",
     "output_type": "stream",
     "text": [
      "2ndFlrSF can be converted to int\n",
      "BedroomAbvGr can be converted to int\n",
      "EnclosedPorch can be converted to int\n",
      "GarageYrBlt can be converted to int\n",
      "LotFrontage can be converted to int\n",
      "MasVnrArea can be converted to int\n",
      "WoodDeckSF can be converted to int\n"
     ]
    }
   ],
   "source": [
    "float_cols = house_prices_df.select_dtypes(include='float').columns\n",
    "\n",
    "# Check which float columns contain only whole number values\n",
    "for col in float_cols:\n",
    "    if (house_prices_df[col].dropna() % 1 == 0).all():\n",
    "        print(f\"{col} can be converted to int\")"
   ]
  },
  {
   "cell_type": "code",
   "execution_count": 20,
   "id": "f064c637",
   "metadata": {},
   "outputs": [],
   "source": [
    "cols_to_convert = [\n",
    "    '2ndFlrSF',\n",
    "    'BedroomAbvGr',\n",
    "    'EnclosedPorch',\n",
    "    'GarageYrBlt',\n",
    "    'LotFrontage',\n",
    "    'MasVnrArea',\n",
    "    'WoodDeckSF'\n",
    "]\n",
    "\n",
    "for col in cols_to_convert:\n",
    "    house_prices_df[col] = house_prices_df[col].astype('Int64')  # Supports missing values"
   ]
  },
  {
   "cell_type": "code",
   "execution_count": 21,
   "id": "899098c9",
   "metadata": {},
   "outputs": [
    {
     "data": {
      "text/plain": [
       "2ndFlrSF         Int64\n",
       "BedroomAbvGr     Int64\n",
       "EnclosedPorch    Int64\n",
       "GarageYrBlt      Int64\n",
       "LotFrontage      Int64\n",
       "MasVnrArea       Int64\n",
       "WoodDeckSF       Int64\n",
       "dtype: object"
      ]
     },
     "execution_count": 21,
     "metadata": {},
     "output_type": "execute_result"
    }
   ],
   "source": [
    "house_prices_df[[\n",
    "    '2ndFlrSF', 'BedroomAbvGr', 'EnclosedPorch',\n",
    "    'GarageYrBlt', 'LotFrontage', 'MasVnrArea', 'WoodDeckSF'\n",
    "]].dtypes"
   ]
  }
 ],
 "metadata": {
  "kernelspec": {
   "display_name": "Python 3",
   "language": "python",
   "name": "python3"
  },
  "language_info": {
   "codemirror_mode": {
    "name": "ipython",
    "version": 3
   },
   "file_extension": ".py",
   "mimetype": "text/x-python",
   "name": "python",
   "nbconvert_exporter": "python",
   "pygments_lexer": "ipython3",
   "version": "3.12.8"
  }
 },
 "nbformat": 4,
 "nbformat_minor": 5
}
